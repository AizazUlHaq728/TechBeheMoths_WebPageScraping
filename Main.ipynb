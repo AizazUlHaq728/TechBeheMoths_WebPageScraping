{
 "cells": [
  {
   "cell_type": "code",
   "execution_count": 5,
   "metadata": {},
   "outputs": [],
   "source": [
    "from bs4 import BeautifulSoup\n",
    "import requests"
   ]
  },
  {
   "cell_type": "markdown",
   "metadata": {},
   "source": [
    "## Function that extracts and filter relevent data from given TechBehemouth page"
   ]
  },
  {
   "cell_type": "code",
   "execution_count": 6,
   "metadata": {},
   "outputs": [],
   "source": [
    "def Extract_Data(webURL, TSize, SName):\n",
    "\n",
    "    website =  requests.get(webURL).text\n",
    "    soup = BeautifulSoup(website, 'lxml')\n",
    "    jobs = soup.find_all('div', class_ = \"co-list__itm\")\n",
    "    result = []\n",
    "    for company in jobs:\n",
    "        company_name_container = company.find('p' , class_ = \"co-box__name font-medium\")\n",
    "        if company_name_container:\n",
    "            company_name = company_name_container.a.text.replace(' ','').split('\\n')[1]\n",
    "\n",
    "            Team_size_Query = company.find('span', class_ = \"value txt-blue\").text.replace(' ','').split('\\n')[1].split('-')\n",
    "            Team_size = [int(x.replace(',', '')) for x in Team_size_Query if x != \"Freelancer\"]\n",
    "            if (len(Team_size)>1 and TSize <= Team_size[1]):\n",
    "                Services = company.find_all('a', class_ = 'btn btn-flat co-box__srv')\n",
    "                temp = []\n",
    "                for service in Services:\n",
    "                    temp.append(service.span.text)\n",
    "                    \n",
    "                    if service.span.text == SName:\n",
    "                        result.append(company_name)\n",
    "                \n",
    "    return result"
   ]
  },
  {
   "cell_type": "markdown",
   "metadata": {},
   "source": [
    "## Parameters for filtering\n",
    "### Change parameters accordingly"
   ]
  },
  {
   "cell_type": "code",
   "execution_count": 7,
   "metadata": {},
   "outputs": [],
   "source": [
    "TechBeHeMothCurrentPage = \"https://techbehemoths.com/companies/lahore?page=3\"\n",
    "Team_size_atleast = 65\n",
    "Service = \"Web Development\""
   ]
  },
  {
   "cell_type": "markdown",
   "metadata": {},
   "source": [
    "## Displaying Result"
   ]
  },
  {
   "cell_type": "code",
   "execution_count": 8,
   "metadata": {},
   "outputs": [
    {
     "name": "stdout",
     "output_type": "stream",
     "text": [
      "The following companies matches the Profile from the resultant web page\n",
      "AxiomWorld\n",
      "Off-RoadStudios\n"
     ]
    }
   ],
   "source": [
    "query_result = Extract_Data(TechBeHeMothCurrentPage,Team_size_atleast, Service)\n",
    "\n",
    "print(\"The following companies matches the Profile from the resultant web page\")\n",
    "for query in query_result:\n",
    "    print(query)"
   ]
  }
 ],
 "metadata": {
  "kernelspec": {
   "display_name": "Python 3",
   "language": "python",
   "name": "python3"
  },
  "language_info": {
   "codemirror_mode": {
    "name": "ipython",
    "version": 3
   },
   "file_extension": ".py",
   "mimetype": "text/x-python",
   "name": "python",
   "nbconvert_exporter": "python",
   "pygments_lexer": "ipython3",
   "version": "3.12.3"
  }
 },
 "nbformat": 4,
 "nbformat_minor": 2
}
